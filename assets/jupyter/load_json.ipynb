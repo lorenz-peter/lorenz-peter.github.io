{
 "cells": [
  {
   "cell_type": "markdown",
   "metadata": {},
   "source": [
    "# Load Papers"
   ]
  },
  {
   "cell_type": "code",
   "execution_count": 40,
   "metadata": {},
   "outputs": [],
   "source": [
    "import pandas as pd"
   ]
  },
  {
   "cell_type": "markdown",
   "metadata": {},
   "source": [
    "## Load json file into panda database"
   ]
  },
  {
   "cell_type": "code",
   "execution_count": 41,
   "metadata": {},
   "outputs": [
    {
     "data": {
      "text/html": [
       "<div>\n",
       "<style scoped>\n",
       "    .dataframe tbody tr th:only-of-type {\n",
       "        vertical-align: middle;\n",
       "    }\n",
       "\n",
       "    .dataframe tbody tr th {\n",
       "        vertical-align: top;\n",
       "    }\n",
       "\n",
       "    .dataframe thead th {\n",
       "        text-align: right;\n",
       "    }\n",
       "</style>\n",
       "<table border=\"1\" class=\"dataframe\">\n",
       "  <thead>\n",
       "    <tr style=\"text-align: right;\">\n",
       "      <th></th>\n",
       "      <th>date</th>\n",
       "      <th>title</th>\n",
       "      <th>author</th>\n",
       "      <th>link</th>\n",
       "      <th>abstract</th>\n",
       "    </tr>\n",
       "  </thead>\n",
       "  <tbody>\n",
       "    <tr>\n",
       "      <th>0</th>\n",
       "      <td>2024-10-01</td>\n",
       "      <td>Stealing User Prompts from Mixture of Experts</td>\n",
       "      <td>Itay Yona, Ilia Shumailov, Jamie Hayes, and Ni...</td>\n",
       "      <td>http://arxiv.org/abs/2410.22884v1</td>\n",
       "      <td>Mixture-of-Experts (MoE) models improve the ef...</td>\n",
       "    </tr>\n",
       "    <tr>\n",
       "      <th>1</th>\n",
       "      <td>2024-10-01</td>\n",
       "      <td>Remote Timing Attacks on Efficient Language Mo...</td>\n",
       "      <td>Nicholas Carlini, and Milad Nasr</td>\n",
       "      <td>http://arxiv.org/abs/2410.17175v1</td>\n",
       "      <td>Scaling up language models has significantly i...</td>\n",
       "    </tr>\n",
       "    <tr>\n",
       "      <th>2</th>\n",
       "      <td>2024-10-01</td>\n",
       "      <td>Persistent Pre-Training Poisoning of LLMs</td>\n",
       "      <td>Yiming Zhang, Javier Rando, Ivan Evtimov, Jian...</td>\n",
       "      <td>http://arxiv.org/abs/2410.13722v1</td>\n",
       "      <td>Large language models are pre-trained on uncur...</td>\n",
       "    </tr>\n",
       "  </tbody>\n",
       "</table>\n",
       "</div>"
      ],
      "text/plain": [
       "        date                                              title  \\\n",
       "0 2024-10-01      Stealing User Prompts from Mixture of Experts   \n",
       "1 2024-10-01  Remote Timing Attacks on Efficient Language Mo...   \n",
       "2 2024-10-01          Persistent Pre-Training Poisoning of LLMs   \n",
       "\n",
       "                                              author  \\\n",
       "0  Itay Yona, Ilia Shumailov, Jamie Hayes, and Ni...   \n",
       "1                   Nicholas Carlini, and Milad Nasr   \n",
       "2  Yiming Zhang, Javier Rando, Ivan Evtimov, Jian...   \n",
       "\n",
       "                                link  \\\n",
       "0  http://arxiv.org/abs/2410.22884v1   \n",
       "1  http://arxiv.org/abs/2410.17175v1   \n",
       "2  http://arxiv.org/abs/2410.13722v1   \n",
       "\n",
       "                                            abstract  \n",
       "0  Mixture-of-Experts (MoE) models improve the ef...  \n",
       "1  Scaling up language models has significantly i...  \n",
       "2  Large language models are pre-trained on uncur...  "
      ]
     },
     "execution_count": 41,
     "metadata": {},
     "output_type": "execute_result"
    }
   ],
   "source": [
    "file_path = \"../json/model_stealing_papers.json\"\n",
    "df = pd.read_json(file_path)\n",
    "df.head(3)"
   ]
  },
  {
   "cell_type": "markdown",
   "metadata": {},
   "source": [
    "## Print abstract from the first paper"
   ]
  },
  {
   "cell_type": "code",
   "execution_count": 42,
   "metadata": {},
   "outputs": [
    {
     "name": "stdout",
     "output_type": "stream",
     "text": [
      "Mixture-of-Experts (MoE) models improve the efficiency and scalability of\n",
      "dense language models by routing each token to a small number of experts in\n",
      "each layer. In this paper, we show how an adversary that can arrange for their\n",
      "queries to appear in the same batch of examples as a victim's queries can\n",
      "exploit Expert-Choice-Routing to fully disclose a victim's prompt. We\n",
      "successfully demonstrate the effectiveness of this attack on a two-layer\n",
      "Mixtral model, exploiting the tie-handling behavior of the torch.topk CUDA\n",
      "implementation. Our results show that we can extract the entire prompt using\n",
      "$O({VM}^2)$ queries (with vocabulary size $V$ and prompt length $M$) or 100\n",
      "queries on average per token in the setting we consider. This is the first\n",
      "attack to exploit architectural flaws for the purpose of extracting user\n",
      "prompts, introducing a new class of LLM vulnerabilities.\n"
     ]
    }
   ],
   "source": [
    "print(df['abstract'][0])"
   ]
  },
  {
   "cell_type": "markdown",
   "metadata": {},
   "source": [
    "## Plot the number of papers per year"
   ]
  },
  {
   "cell_type": "code",
   "execution_count": 43,
   "metadata": {},
   "outputs": [
    {
     "data": {
      "text/plain": [
       "<Axes: xlabel='date'>"
      ]
     },
     "execution_count": 43,
     "metadata": {},
     "output_type": "execute_result"
    },
    {
     "data": {
      "image/png": "[encoded data removed]",
      "text/plain": [
       "<Figure size 640x480 with 1 Axes>"
      ]
     },
     "metadata": {},
     "output_type": "display_data"
    }
   ],
   "source": [
    "df['date'].groupby(df['date'].dt.year).count().plot(kind=\"bar\")"
   ]
  },
  {
   "cell_type": "markdown",
   "metadata": {},
   "source": [
    "## Print the first 20-th most frequent first-authors"
   ]
  },
  {
   "cell_type": "code",
   "execution_count": 44,
   "metadata": {},
   "outputs": [
    {
     "data": {
      "text/plain": [
       "first_author\n",
       "Nicholas Carlini                 32\n",
       "Enrico Carlini                    5\n",
       "Sanghyun Hong                     3\n",
       "David Berthelot                   3\n",
       "Milad Nasr                        3\n",
       "Florian Tramèr                    3\n",
       "Matthew Jagielski                 3\n",
       "Yiming Zhang                      3\n",
       "Chawin Sitawarin                  2\n",
       "Florian Tramer                    2\n",
       "The DarkSide-50 Collaboration     2\n",
       "Daphne Ippolito                   2\n",
       "Anish Athalye                     2\n",
       "Edoardo Debenedetti               2\n",
       "Nicolas Papernot                  1\n",
       "Oliver Bryniarski                 1\n",
       "Nikhil Kandpal                    1\n",
       "Warren He                         1\n",
       "QWeak Collaboration               1\n",
       "Nic Ford                          1\n",
       "Name: first_author, dtype: int64"
      ]
     },
     "execution_count": 44,
     "metadata": {},
     "output_type": "execute_result"
    }
   ],
   "source": [
    "df[\"first_author\"] = df['author'].apply(lambda x: x.split(',')[0].strip())\n",
    "qd_authors = df.groupby(df[\"first_author\"])[\"first_author\"].count().sort_values(ascending=False)\n",
    "qd_authors.head(20)"
   ]
  },
  {
   "cell_type": "markdown",
   "metadata": {},
   "source": [
    "## Bibliography\n",
    "\n",
    "- Tim Head: https://betatim.github.io/posts/analysing-the-arxiv/\n",
    "- Lukas Schwab: https://github.com/lukasschwab/arxiv.py\n",
    "- ArXiV API user manual: https://arxiv.org/help/api/user-manual       "
   ]
  },
  {
   "cell_type": "markdown",
   "metadata": {},
   "source": [
    "## Related Code\n",
    "\n",
    "- https://colab.research.google.com/github/EPS-Libraries-Berkeley/volt/blob/main/Search/arxiv_api.ipynb#scrollTo=AOqwpdUcT4DY"
   ]
  },
  {
   "cell_type": "markdown",
   "metadata": {},
   "source": []
  }
 ],
 "metadata": {
  "kernelspec": {
   "display_name": "p310",
   "language": "python",
   "name": "python3"
  },
  "language_info": {
   "codemirror_mode": {
    "name": "ipython",
    "version": 3
   },
   "file_extension": ".py",
   "mimetype": "text/x-python",
   "name": "python",
   "nbconvert_exporter": "python",
   "pygments_lexer": "ipython3",
   "version": "3.10.11"
  }
 },
 "nbformat": 4,
 "nbformat_minor": 2
}
